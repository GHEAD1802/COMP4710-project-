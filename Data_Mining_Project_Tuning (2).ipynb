{
 "cells": [
  {
   "cell_type": "markdown",
   "id": "114cdb42",
   "metadata": {},
   "source": [
    "# Model Building on Lyrics as Features\n",
    "This is the code we ran for attempting to build a model that classifies only based on the words alone, no frequent patterns mined\\.  \n",
    "We wanted to compare the accuracy to our frequent pattern model to see if they indeed made a difference."
   ]
  },
  {
   "cell_type": "code",
   "execution_count": null,
   "id": "5b3d9129",
   "metadata": {},
   "outputs": [],
   "source": [
    "import pyarc\n",
    "import fim"
   ]
  },
  {
   "cell_type": "code",
   "execution_count": null,
   "id": "bc4f2e59",
   "metadata": {},
   "outputs": [],
   "source": [
    "import pandas as pd"
   ]
  },
  {
   "cell_type": "code",
   "execution_count": null,
   "id": "11f3927c",
   "metadata": {},
   "outputs": [],
   "source": [
    "import numpy as np\n",
    "np.random.RandomState(42)"
   ]
  },
  {
   "cell_type": "code",
   "execution_count": null,
   "id": "2db3462b",
   "metadata": {},
   "outputs": [],
   "source": [
    "tracks=pd.read_csv(\"my_dataset.csv\",encoding='latin1')"
   ]
  },
  {
   "cell_type": "code",
   "execution_count": null,
   "id": "2464aa19",
   "metadata": {},
   "outputs": [],
   "source": [
    "tracks"
   ]
  },
  {
   "cell_type": "markdown",
   "id": "5456198f",
   "metadata": {},
   "source": [
    "Complete same pre-processing steps we used for the frequent pattern model."
   ]
  },
  {
   "cell_type": "code",
   "execution_count": null,
   "id": "8f0e6143",
   "metadata": {},
   "outputs": [],
   "source": [
    "words=['i','you','they','we','he','she','it','a','and','the','to','me','not','in','of','on','about','your','that','do','am','for','no','here','there','oh','my','is','are']\n",
    "indices=np.empty([1],dtype='int64')\n",
    "for word in words:\n",
    "    temp=np.concatenate((indices,tracks[tracks['word']==word].index.values))\n",
    "    indices=temp\n",
    "tracks2=tracks.drop(index=indices[1:])"
   ]
  },
  {
   "cell_type": "code",
   "execution_count": null,
   "id": "46edf0f3",
   "metadata": {},
   "outputs": [],
   "source": [
    "singletons=tracks2.groupby('word').sum('count')\n",
    "bbb=singletons[singletons['count']==1].index.get_level_values(0)\n",
    "indices=np.empty([1],dtype='int64')\n",
    "for word in bbb:\n",
    "    temp=np.concatenate((indices,tracks[tracks['word']==word].index.values))\n",
    "    indices=temp\n",
    "tracks3=tracks2.drop(indices[1:])"
   ]
  },
  {
   "cell_type": "code",
   "execution_count": null,
   "id": "6ed5cd48",
   "metadata": {},
   "outputs": [],
   "source": [
    "all_tracks = [track[1]['word'].tolist() for track in list(tracks3.groupby(['track_id','title']))]\n",
    "lyrics = [track[1]['genre'].tolist()[0] for track in list(tracks3.groupby(['track_id','title']))]\n",
    "lyrics = pd.DataFrame(lyrics, columns = [\"genre\"])\n",
    "lyrics[\"words\"] = all_tracks"
   ]
  },
  {
   "cell_type": "code",
   "execution_count": null,
   "id": "6572662e",
   "metadata": {},
   "outputs": [],
   "source": [
    "lyrics"
   ]
  },
  {
   "cell_type": "code",
   "execution_count": null,
   "id": "297b7004",
   "metadata": {},
   "outputs": [],
   "source": [
    "from mlxtend.preprocessing import TransactionEncoder\n",
    "te1=TransactionEncoder()\n",
    "te_ary = te1.fit(lyrics['words']).transform(lyrics['words'])"
   ]
  },
  {
   "cell_type": "code",
   "execution_count": null,
   "id": "abe8c3da",
   "metadata": {},
   "outputs": [],
   "source": [
    "te_ary"
   ]
  },
  {
   "cell_type": "code",
   "execution_count": null,
   "id": "4e795ba4",
   "metadata": {},
   "outputs": [],
   "source": [
    "df = pd.DataFrame(te_ary)"
   ]
  },
  {
   "cell_type": "code",
   "execution_count": null,
   "id": "817ce689",
   "metadata": {},
   "outputs": [],
   "source": [
    "X = df\n",
    "y = lyrics['genre']"
   ]
  },
  {
   "cell_type": "markdown",
   "id": "4ae83436",
   "metadata": {},
   "source": [
    "Split data and start building models."
   ]
  },
  {
   "cell_type": "code",
   "execution_count": null,
   "id": "b9639002",
   "metadata": {},
   "outputs": [],
   "source": [
    "from sklearn.model_selection import train_test_split\n",
    "\n",
    "X_train,X_test,y_train,y_test=train_test_split(X,y,stratify=y,train_size=0.8,random_state=42)"
   ]
  },
  {
   "cell_type": "code",
   "execution_count": null,
   "id": "634b125e",
   "metadata": {},
   "outputs": [],
   "source": [
    "from sklearn.svm import SVC\n",
    "svc=SVC(random_state=42)\n",
    "svc.fit(X_train,y_train)\n",
    "y_pred=svc.predict(X_test)"
   ]
  },
  {
   "cell_type": "code",
   "execution_count": null,
   "id": "415f489c",
   "metadata": {},
   "outputs": [],
   "source": [
    "from sklearn.metrics import balanced_accuracy_score\n",
    "balanced_accuracy_score(y_test,y_pred)"
   ]
  },
  {
   "cell_type": "code",
   "execution_count": null,
   "id": "2ec82e98",
   "metadata": {},
   "outputs": [],
   "source": [
    "from sklearn.linear_model import SGDClassifier\n",
    "sgd=SGDClassifier(random_state=42)\n",
    "sgd.fit(X_train,y_train)\n",
    "y_pred=sgd.predict(X_test)\n",
    "balanced_accuracy_score(y_test,y_pred)"
   ]
  },
  {
   "cell_type": "code",
   "execution_count": null,
   "id": "8ec752c3",
   "metadata": {},
   "outputs": [],
   "source": [
    "from sklearn.naive_bayes import GaussianNB\n",
    "gnb=GaussianNB()\n",
    "gnb.fit(X_train,y_train)\n",
    "y_pred=gnb.predict(X_test)\n",
    "balanced_accuracy_score(y_test,y_pred)"
   ]
  },
  {
   "cell_type": "markdown",
   "id": "742a6c80",
   "metadata": {},
   "source": [
    "The models ended up not performing well at all. We tried hyperparameter tuning on our two best models, SGD and Gaussian NB, to see if that was the issue."
   ]
  },
  {
   "cell_type": "code",
   "execution_count": null,
   "id": "9c6407b0",
   "metadata": {},
   "outputs": [],
   "source": [
    "from sklearn.linear_model import SGDClassifier\n",
    "from sklearn.model_selection import GridSearchCV\n",
    "\n",
    "params = {\n",
    "    \"loss\" : [\"hinge\", \"log_loss\", \"modified_huber\"],\n",
    "    \"alpha\" : [0.0001, 0.001, 0.01, 0.1, 1.0],\n",
    "    \"penalty\" : [\"l2\", \"l1\",None],\n",
    "}\n",
    "\n",
    "model = SGDClassifier(max_iter=1000,random_state=42)\n",
    "clf = GridSearchCV(model, param_grid=params, scoring = \"balanced_accuracy\", cv=3, verbose=2)\n",
    "clf.fit(X_train,y_train)"
   ]
  },
  {
   "cell_type": "code",
   "execution_count": null,
   "id": "840de1e4",
   "metadata": {},
   "outputs": [],
   "source": [
    "clf.best_score_"
   ]
  },
  {
   "cell_type": "code",
   "execution_count": null,
   "id": "44382cda",
   "metadata": {},
   "outputs": [],
   "source": [
    "clf.best_params_"
   ]
  },
  {
   "cell_type": "code",
   "execution_count": null,
   "id": "62e3589c",
   "metadata": {
    "scrolled": true
   },
   "outputs": [],
   "source": [
    "from sklearn.naive_bayes import GaussianNB\n",
    "from sklearn.model_selection import GridSearchCV\n",
    "\n",
    "params = {\n",
    "    'var_smoothing': np.logspace(0,-9, num=100)\n",
    "}\n",
    "\n",
    "gnb = GaussianNB()\n",
    "clf = GridSearchCV(gnb, param_grid=params, scoring = \"balanced_accuracy\", cv=3, verbose=2)\n",
    "clf.fit(X_train,y_train)"
   ]
  },
  {
   "cell_type": "code",
   "execution_count": null,
   "id": "325654ba",
   "metadata": {},
   "outputs": [],
   "source": [
    "clf.best_score_"
   ]
  },
  {
   "cell_type": "code",
   "execution_count": null,
   "id": "36690eb4",
   "metadata": {},
   "outputs": [],
   "source": [
    "clf.best_params_"
   ]
  },
  {
   "cell_type": "markdown",
   "id": "13dec03e",
   "metadata": {},
   "source": [
    "Even with hyperparameter tuning the models were still very inaccurate in their predictions. This is a good sign that the our frequent patterns mined are actually good predictors for genre of a song."
   ]
  }
 ],
 "metadata": {
  "kernelspec": {
   "display_name": "comp_env",
   "language": "python",
   "name": "comp_env"
  },
  "language_info": {
   "codemirror_mode": {
    "name": "ipython",
    "version": 3
   },
   "file_extension": ".py",
   "mimetype": "text/x-python",
   "name": "python",
   "nbconvert_exporter": "python",
   "pygments_lexer": "ipython3",
   "version": "3.10.10"
  }
 },
 "nbformat": 4,
 "nbformat_minor": 5
}
