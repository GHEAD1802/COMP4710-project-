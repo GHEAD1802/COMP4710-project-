{
 "cells": [
  {
   "cell_type": "code",
   "execution_count": 1,
   "id": "5b3d9129",
   "metadata": {},
   "outputs": [],
   "source": [
    "import pyarc"
   ]
  },
  {
   "cell_type": "code",
   "execution_count": 2,
   "id": "72da5b61",
   "metadata": {},
   "outputs": [],
   "source": [
    "import fim"
   ]
  },
  {
   "cell_type": "code",
   "execution_count": 3,
   "id": "bc4f2e59",
   "metadata": {},
   "outputs": [],
   "source": [
    "import pandas as pd"
   ]
  },
  {
   "cell_type": "code",
   "execution_count": 4,
   "id": "11f3927c",
   "metadata": {},
   "outputs": [],
   "source": [
    "import numpy as np"
   ]
  },
  {
   "cell_type": "code",
   "execution_count": 5,
   "id": "2db3462b",
   "metadata": {},
   "outputs": [],
   "source": [
    "tracks=pd.read_csv(\"C:/Users/Vincent/Downloads/COMP4710_project/COMP4710_project/my_dataset.csv\",encoding='latin1')"
   ]
  },
  {
   "cell_type": "code",
   "execution_count": 6,
   "id": "2464aa19",
   "metadata": {},
   "outputs": [
    {
     "data": {
      "text/html": [
       "<div>\n",
       "<style scoped>\n",
       "    .dataframe tbody tr th:only-of-type {\n",
       "        vertical-align: middle;\n",
       "    }\n",
       "\n",
       "    .dataframe tbody tr th {\n",
       "        vertical-align: top;\n",
       "    }\n",
       "\n",
       "    .dataframe thead th {\n",
       "        text-align: right;\n",
       "    }\n",
       "</style>\n",
       "<table border=\"1\" class=\"dataframe\">\n",
       "  <thead>\n",
       "    <tr style=\"text-align: right;\">\n",
       "      <th></th>\n",
       "      <th>track_id</th>\n",
       "      <th>title</th>\n",
       "      <th>year</th>\n",
       "      <th>genre</th>\n",
       "      <th>word</th>\n",
       "      <th>count</th>\n",
       "    </tr>\n",
       "  </thead>\n",
       "  <tbody>\n",
       "    <tr>\n",
       "      <th>0</th>\n",
       "      <td>TRAADNA128F9331246</td>\n",
       "      <td>Crossfire</td>\n",
       "      <td>1992</td>\n",
       "      <td>blues</td>\n",
       "      <td>i</td>\n",
       "      <td>4</td>\n",
       "    </tr>\n",
       "    <tr>\n",
       "      <th>1</th>\n",
       "      <td>TRAADNA128F9331246</td>\n",
       "      <td>Crossfire</td>\n",
       "      <td>1992</td>\n",
       "      <td>blues</td>\n",
       "      <td>the</td>\n",
       "      <td>14</td>\n",
       "    </tr>\n",
       "    <tr>\n",
       "      <th>2</th>\n",
       "      <td>TRAADNA128F9331246</td>\n",
       "      <td>Crossfire</td>\n",
       "      <td>1992</td>\n",
       "      <td>blues</td>\n",
       "      <td>you</td>\n",
       "      <td>1</td>\n",
       "    </tr>\n",
       "    <tr>\n",
       "      <th>3</th>\n",
       "      <td>TRAADNA128F9331246</td>\n",
       "      <td>Crossfire</td>\n",
       "      <td>1992</td>\n",
       "      <td>blues</td>\n",
       "      <td>to</td>\n",
       "      <td>3</td>\n",
       "    </tr>\n",
       "    <tr>\n",
       "      <th>4</th>\n",
       "      <td>TRAADNA128F9331246</td>\n",
       "      <td>Crossfire</td>\n",
       "      <td>1992</td>\n",
       "      <td>blues</td>\n",
       "      <td>and</td>\n",
       "      <td>1</td>\n",
       "    </tr>\n",
       "    <tr>\n",
       "      <th>...</th>\n",
       "      <td>...</td>\n",
       "      <td>...</td>\n",
       "      <td>...</td>\n",
       "      <td>...</td>\n",
       "      <td>...</td>\n",
       "      <td>...</td>\n",
       "    </tr>\n",
       "    <tr>\n",
       "      <th>886377</th>\n",
       "      <td>TRZZXFY128F9342D0E</td>\n",
       "      <td>Toca Me</td>\n",
       "      <td>1999</td>\n",
       "      <td>electronic</td>\n",
       "      <td>noon</td>\n",
       "      <td>1</td>\n",
       "    </tr>\n",
       "    <tr>\n",
       "      <th>886378</th>\n",
       "      <td>TRZZXFY128F9342D0E</td>\n",
       "      <td>Toca Me</td>\n",
       "      <td>1999</td>\n",
       "      <td>electronic</td>\n",
       "      <td>deeper</td>\n",
       "      <td>1</td>\n",
       "    </tr>\n",
       "    <tr>\n",
       "      <th>886379</th>\n",
       "      <td>TRZZXFY128F9342D0E</td>\n",
       "      <td>Toca Me</td>\n",
       "      <td>1999</td>\n",
       "      <td>electronic</td>\n",
       "      <td>miracl</td>\n",
       "      <td>14</td>\n",
       "    </tr>\n",
       "    <tr>\n",
       "      <th>886380</th>\n",
       "      <td>TRZZXFY128F9342D0E</td>\n",
       "      <td>Toca Me</td>\n",
       "      <td>1999</td>\n",
       "      <td>electronic</td>\n",
       "      <td>rescu</td>\n",
       "      <td>1</td>\n",
       "    </tr>\n",
       "    <tr>\n",
       "      <th>886381</th>\n",
       "      <td>TRZZXFY128F9342D0E</td>\n",
       "      <td>Toca Me</td>\n",
       "      <td>1999</td>\n",
       "      <td>electronic</td>\n",
       "      <td>physic</td>\n",
       "      <td>5</td>\n",
       "    </tr>\n",
       "  </tbody>\n",
       "</table>\n",
       "<p>886382 rows × 6 columns</p>\n",
       "</div>"
      ],
      "text/plain": [
       "                  track_id      title  year       genre    word  count\n",
       "0       TRAADNA128F9331246  Crossfire  1992       blues       i      4\n",
       "1       TRAADNA128F9331246  Crossfire  1992       blues     the     14\n",
       "2       TRAADNA128F9331246  Crossfire  1992       blues     you      1\n",
       "3       TRAADNA128F9331246  Crossfire  1992       blues      to      3\n",
       "4       TRAADNA128F9331246  Crossfire  1992       blues     and      1\n",
       "...                    ...        ...   ...         ...     ...    ...\n",
       "886377  TRZZXFY128F9342D0E    Toca Me  1999  electronic    noon      1\n",
       "886378  TRZZXFY128F9342D0E    Toca Me  1999  electronic  deeper      1\n",
       "886379  TRZZXFY128F9342D0E    Toca Me  1999  electronic  miracl     14\n",
       "886380  TRZZXFY128F9342D0E    Toca Me  1999  electronic   rescu      1\n",
       "886381  TRZZXFY128F9342D0E    Toca Me  1999  electronic  physic      5\n",
       "\n",
       "[886382 rows x 6 columns]"
      ]
     },
     "execution_count": 6,
     "metadata": {},
     "output_type": "execute_result"
    }
   ],
   "source": [
    "tracks"
   ]
  },
  {
   "cell_type": "code",
   "execution_count": 7,
   "id": "bdfc1018",
   "metadata": {},
   "outputs": [],
   "source": [
    "from pyarc import CBA,TransactionDB"
   ]
  },
  {
   "cell_type": "code",
   "execution_count": 8,
   "id": "8f0e6143",
   "metadata": {},
   "outputs": [],
   "source": [
    "words=['i','you','they','we','he','she','it','a','and','the','to','me','not','in','of','on','about','your','that','do','am','for','no','here','there','oh','my','is','are']\n",
    "indices=np.empty([1],dtype='int64')\n",
    "for word in words:\n",
    "    temp=np.concatenate((indices,tracks[tracks['word']==word].index.values))\n",
    "    indices=temp\n",
    "tracks2=tracks.drop(index=indices[1:])"
   ]
  },
  {
   "cell_type": "code",
   "execution_count": 9,
   "id": "46edf0f3",
   "metadata": {},
   "outputs": [],
   "source": [
    "singletons=tracks2.groupby('word').sum('count')\n",
    "bbb=singletons[singletons['count']==1].index.get_level_values(0)\n",
    "indices=np.empty([1],dtype='int64')\n",
    "for word in bbb:\n",
    "    temp=np.concatenate((indices,tracks[tracks['word']==word].index.values))\n",
    "    indices=temp\n",
    "tracks3=tracks2.drop(indices[1:])"
   ]
  },
  {
   "cell_type": "code",
   "execution_count": 10,
   "id": "6ed5cd48",
   "metadata": {},
   "outputs": [],
   "source": [
    "all_tracks = [track[1]['word'].tolist() for track in list(tracks3.groupby(['track_id','title']))]\n",
    "lyrics = [track[1]['genre'].tolist()[0] for track in list(tracks3.groupby(['track_id','title']))]\n",
    "lyrics = pd.DataFrame(lyrics, columns = [\"genre\"])\n",
    "lyrics[\"words\"] = all_tracks"
   ]
  },
  {
   "cell_type": "code",
   "execution_count": 11,
   "id": "6572662e",
   "metadata": {},
   "outputs": [
    {
     "data": {
      "text/html": [
       "<div>\n",
       "<style scoped>\n",
       "    .dataframe tbody tr th:only-of-type {\n",
       "        vertical-align: middle;\n",
       "    }\n",
       "\n",
       "    .dataframe tbody tr th {\n",
       "        vertical-align: top;\n",
       "    }\n",
       "\n",
       "    .dataframe thead th {\n",
       "        text-align: right;\n",
       "    }\n",
       "</style>\n",
       "<table border=\"1\" class=\"dataframe\">\n",
       "  <thead>\n",
       "    <tr style=\"text-align: right;\">\n",
       "      <th></th>\n",
       "      <th>genre</th>\n",
       "      <th>words</th>\n",
       "    </tr>\n",
       "  </thead>\n",
       "  <tbody>\n",
       "    <tr>\n",
       "      <th>0</th>\n",
       "      <td>blues</td>\n",
       "      <td>[be, just, time, come, one, see, got, never, c...</td>\n",
       "    </tr>\n",
       "    <tr>\n",
       "      <th>1</th>\n",
       "      <td>rock</td>\n",
       "      <td>[will, all, have, love, so, know, with, when, ...</td>\n",
       "    </tr>\n",
       "    <tr>\n",
       "      <th>2</th>\n",
       "      <td>pop</td>\n",
       "      <td>[will, all, so, this, with, just, when, like, ...</td>\n",
       "    </tr>\n",
       "    <tr>\n",
       "      <th>3</th>\n",
       "      <td>rock</td>\n",
       "      <td>[all, be, have, love, so, know, just, when, li...</td>\n",
       "    </tr>\n",
       "    <tr>\n",
       "      <th>4</th>\n",
       "      <td>rock</td>\n",
       "      <td>[will, all, be, have, love, with, like, up, on...</td>\n",
       "    </tr>\n",
       "    <tr>\n",
       "      <th>...</th>\n",
       "      <td>...</td>\n",
       "      <td>...</td>\n",
       "    </tr>\n",
       "    <tr>\n",
       "      <th>9995</th>\n",
       "      <td>electronic</td>\n",
       "      <td>[be, love, know, what, just, come, one, get, i...</td>\n",
       "    </tr>\n",
       "    <tr>\n",
       "      <th>9996</th>\n",
       "      <td>rock</td>\n",
       "      <td>[will, all, be, have, know, this, but, what, o...</td>\n",
       "    </tr>\n",
       "    <tr>\n",
       "      <th>9997</th>\n",
       "      <td>metal</td>\n",
       "      <td>[all, be, this, with, what, now, come, was, se...</td>\n",
       "    </tr>\n",
       "    <tr>\n",
       "      <th>9998</th>\n",
       "      <td>rock</td>\n",
       "      <td>[will, all, have, so, but, with, what, when, n...</td>\n",
       "    </tr>\n",
       "    <tr>\n",
       "      <th>9999</th>\n",
       "      <td>rock</td>\n",
       "      <td>[will, all, be, have, know, this, but, with, w...</td>\n",
       "    </tr>\n",
       "  </tbody>\n",
       "</table>\n",
       "<p>10000 rows × 2 columns</p>\n",
       "</div>"
      ],
      "text/plain": [
       "           genre                                              words\n",
       "0          blues  [be, just, time, come, one, see, got, never, c...\n",
       "1           rock  [will, all, have, love, so, know, with, when, ...\n",
       "2            pop  [will, all, so, this, with, just, when, like, ...\n",
       "3           rock  [all, be, have, love, so, know, just, when, li...\n",
       "4           rock  [will, all, be, have, love, with, like, up, on...\n",
       "...          ...                                                ...\n",
       "9995  electronic  [be, love, know, what, just, come, one, get, i...\n",
       "9996        rock  [will, all, be, have, know, this, but, what, o...\n",
       "9997       metal  [all, be, this, with, what, now, come, was, se...\n",
       "9998        rock  [will, all, have, so, but, with, what, when, n...\n",
       "9999        rock  [will, all, be, have, know, this, but, with, w...\n",
       "\n",
       "[10000 rows x 2 columns]"
      ]
     },
     "execution_count": 11,
     "metadata": {},
     "output_type": "execute_result"
    }
   ],
   "source": [
    "lyrics"
   ]
  },
  {
   "cell_type": "code",
   "execution_count": 12,
   "id": "2312ca88",
   "metadata": {},
   "outputs": [],
   "source": [
    "lyrics2=lyrics"
   ]
  },
  {
   "cell_type": "code",
   "execution_count": 13,
   "id": "60d13f96",
   "metadata": {},
   "outputs": [
    {
     "data": {
      "text/html": [
       "<div>\n",
       "<style scoped>\n",
       "    .dataframe tbody tr th:only-of-type {\n",
       "        vertical-align: middle;\n",
       "    }\n",
       "\n",
       "    .dataframe tbody tr th {\n",
       "        vertical-align: top;\n",
       "    }\n",
       "\n",
       "    .dataframe thead th {\n",
       "        text-align: right;\n",
       "    }\n",
       "</style>\n",
       "<table border=\"1\" class=\"dataframe\">\n",
       "  <thead>\n",
       "    <tr style=\"text-align: right;\">\n",
       "      <th></th>\n",
       "      <th>genre</th>\n",
       "      <th>words</th>\n",
       "    </tr>\n",
       "  </thead>\n",
       "  <tbody>\n",
       "    <tr>\n",
       "      <th>0</th>\n",
       "      <td>blues</td>\n",
       "      <td>[be, just, time, come, one, see, got, never, c...</td>\n",
       "    </tr>\n",
       "    <tr>\n",
       "      <th>1</th>\n",
       "      <td>rock</td>\n",
       "      <td>[will, all, have, love, so, know, with, when, ...</td>\n",
       "    </tr>\n",
       "    <tr>\n",
       "      <th>2</th>\n",
       "      <td>pop</td>\n",
       "      <td>[will, all, so, this, with, just, when, like, ...</td>\n",
       "    </tr>\n",
       "    <tr>\n",
       "      <th>3</th>\n",
       "      <td>rock</td>\n",
       "      <td>[all, be, have, love, so, know, just, when, li...</td>\n",
       "    </tr>\n",
       "    <tr>\n",
       "      <th>4</th>\n",
       "      <td>rock</td>\n",
       "      <td>[will, all, be, have, love, with, like, up, on...</td>\n",
       "    </tr>\n",
       "    <tr>\n",
       "      <th>...</th>\n",
       "      <td>...</td>\n",
       "      <td>...</td>\n",
       "    </tr>\n",
       "    <tr>\n",
       "      <th>9995</th>\n",
       "      <td>electronic</td>\n",
       "      <td>[be, love, know, what, just, come, one, get, i...</td>\n",
       "    </tr>\n",
       "    <tr>\n",
       "      <th>9996</th>\n",
       "      <td>rock</td>\n",
       "      <td>[will, all, be, have, know, this, but, what, o...</td>\n",
       "    </tr>\n",
       "    <tr>\n",
       "      <th>9997</th>\n",
       "      <td>metal</td>\n",
       "      <td>[all, be, this, with, what, now, come, was, se...</td>\n",
       "    </tr>\n",
       "    <tr>\n",
       "      <th>9998</th>\n",
       "      <td>rock</td>\n",
       "      <td>[will, all, have, so, but, with, what, when, n...</td>\n",
       "    </tr>\n",
       "    <tr>\n",
       "      <th>9999</th>\n",
       "      <td>rock</td>\n",
       "      <td>[will, all, be, have, know, this, but, with, w...</td>\n",
       "    </tr>\n",
       "  </tbody>\n",
       "</table>\n",
       "<p>10000 rows × 2 columns</p>\n",
       "</div>"
      ],
      "text/plain": [
       "           genre                                              words\n",
       "0          blues  [be, just, time, come, one, see, got, never, c...\n",
       "1           rock  [will, all, have, love, so, know, with, when, ...\n",
       "2            pop  [will, all, so, this, with, just, when, like, ...\n",
       "3           rock  [all, be, have, love, so, know, just, when, li...\n",
       "4           rock  [will, all, be, have, love, with, like, up, on...\n",
       "...          ...                                                ...\n",
       "9995  electronic  [be, love, know, what, just, come, one, get, i...\n",
       "9996        rock  [will, all, be, have, know, this, but, what, o...\n",
       "9997       metal  [all, be, this, with, what, now, come, was, se...\n",
       "9998        rock  [will, all, have, so, but, with, what, when, n...\n",
       "9999        rock  [will, all, be, have, know, this, but, with, w...\n",
       "\n",
       "[10000 rows x 2 columns]"
      ]
     },
     "execution_count": 13,
     "metadata": {},
     "output_type": "execute_result"
    }
   ],
   "source": [
    "lyrics2"
   ]
  },
  {
   "cell_type": "code",
   "execution_count": 14,
   "id": "297b7004",
   "metadata": {},
   "outputs": [],
   "source": [
    "from mlxtend.preprocessing import TransactionEncoder\n",
    "te1=TransactionEncoder()\n",
    "te_ary = te1.fit(lyrics2['words']).transform(lyrics2['words'])\n"
   ]
  },
  {
   "cell_type": "code",
   "execution_count": 15,
   "id": "abe8c3da",
   "metadata": {},
   "outputs": [
    {
     "data": {
      "text/plain": [
       "array([[False, False, False, ..., False, False, False],\n",
       "       [False, False, False, ..., False, False, False],\n",
       "       [False, False, False, ..., False, False, False],\n",
       "       ...,\n",
       "       [False, False, False, ..., False, False, False],\n",
       "       [False, False, False, ..., False, False, False],\n",
       "       [False, False, False, ..., False, False, False]])"
      ]
     },
     "execution_count": 15,
     "metadata": {},
     "output_type": "execute_result"
    }
   ],
   "source": [
    "te_ary"
   ]
  },
  {
   "cell_type": "code",
   "execution_count": 16,
   "id": "4e795ba4",
   "metadata": {},
   "outputs": [],
   "source": [
    "df=pd.DataFrame(te_ary)"
   ]
  },
  {
   "cell_type": "code",
   "execution_count": 17,
   "id": "817ce689",
   "metadata": {},
   "outputs": [],
   "source": [
    "X=df\n",
    "y=lyrics2['genre']"
   ]
  },
  {
   "cell_type": "code",
   "execution_count": 18,
   "id": "b9639002",
   "metadata": {},
   "outputs": [],
   "source": [
    "from sklearn.model_selection import train_test_split\n",
    "X_train,X_test,y_train,y_test=train_test_split(X,y,train_size=0.8)"
   ]
  },
  {
   "cell_type": "code",
   "execution_count": 19,
   "id": "68d53740",
   "metadata": {},
   "outputs": [],
   "source": [
    "from sklearn.tree import DecisionTreeClassifier\n",
    "tree=DecisionTreeClassifier()\n",
    "tree.fit(X_train,y_train)\n",
    "y_pred=tree.predict(X_test)"
   ]
  },
  {
   "cell_type": "code",
   "execution_count": 20,
   "id": "bd8113f1",
   "metadata": {},
   "outputs": [
    {
     "data": {
      "text/plain": [
       "array(['rock', 'rock', 'country', ..., 'rock', 'metal', 'pop'],\n",
       "      dtype=object)"
      ]
     },
     "execution_count": 20,
     "metadata": {},
     "output_type": "execute_result"
    }
   ],
   "source": [
    "y_pred"
   ]
  },
  {
   "cell_type": "code",
   "execution_count": 21,
   "id": "949ba79a",
   "metadata": {},
   "outputs": [
    {
     "data": {
      "text/plain": [
       "0.1638542327791703"
      ]
     },
     "execution_count": 21,
     "metadata": {},
     "output_type": "execute_result"
    }
   ],
   "source": [
    "from sklearn.metrics import balanced_accuracy_score\n",
    "balanced_accuracy_score(y_test,y_pred)"
   ]
  },
  {
   "cell_type": "code",
   "execution_count": 22,
   "id": "3db79b00",
   "metadata": {},
   "outputs": [
    {
     "data": {
      "text/plain": [
       "0.14315031055538263"
      ]
     },
     "execution_count": 22,
     "metadata": {},
     "output_type": "execute_result"
    }
   ],
   "source": [
    "from sklearn.ensemble import RandomForestClassifier\n",
    "rf=RandomForestClassifier()\n",
    "rf.fit(X_train,y_train)\n",
    "y_pred=rf.predict(X_test)\n",
    "balanced_accuracy_score(y_test,y_pred)"
   ]
  },
  {
   "cell_type": "code",
   "execution_count": 23,
   "id": "634b125e",
   "metadata": {},
   "outputs": [
    {
     "data": {
      "text/plain": [
       "0.16335292580482008"
      ]
     },
     "execution_count": 23,
     "metadata": {},
     "output_type": "execute_result"
    }
   ],
   "source": [
    "from sklearn.svm import SVC\n",
    "svc=SVC()\n",
    "svc.fit(X_train,y_train)\n",
    "y_pred=svc.predict(X_test)\n",
    "balanced_accuracy_score(y_test,y_pred)"
   ]
  },
  {
   "cell_type": "code",
   "execution_count": 24,
   "id": "8d5ce98c",
   "metadata": {},
   "outputs": [
    {
     "data": {
      "text/plain": [
       "0.10316781314011188"
      ]
     },
     "execution_count": 24,
     "metadata": {},
     "output_type": "execute_result"
    }
   ],
   "source": [
    "from sklearn.neighbors import KNeighborsClassifier\n",
    "knc=KNeighborsClassifier()\n",
    "knc.fit(X_train,y_train)\n",
    "y_pred=knc.predict(X_test)\n",
    "balanced_accuracy_score(y_test,y_pred)"
   ]
  },
  {
   "cell_type": "code",
   "execution_count": 25,
   "id": "2ec82e98",
   "metadata": {},
   "outputs": [
    {
     "data": {
      "text/plain": [
       "0.22067870997613767"
      ]
     },
     "execution_count": 25,
     "metadata": {},
     "output_type": "execute_result"
    }
   ],
   "source": [
    "from sklearn.linear_model import SGDClassifier\n",
    "sgd=SGDClassifier()\n",
    "sgd.fit(X_train,y_train)\n",
    "y_pred=sgd.predict(X_test)\n",
    "balanced_accuracy_score(y_test,y_pred)"
   ]
  },
  {
   "cell_type": "code",
   "execution_count": 26,
   "id": "8ec752c3",
   "metadata": {},
   "outputs": [
    {
     "data": {
      "text/plain": [
       "0.17495747993809355"
      ]
     },
     "execution_count": 26,
     "metadata": {},
     "output_type": "execute_result"
    }
   ],
   "source": [
    "from sklearn.naive_bayes import GaussianNB\n",
    "gnb=GaussianNB()\n",
    "gnb.fit(X_train,y_train)\n",
    "y_pred=gnb.predict(X_test)\n",
    "balanced_accuracy_score(y_test,y_pred)"
   ]
  },
  {
   "cell_type": "code",
   "execution_count": null,
   "id": "1311b393",
   "metadata": {},
   "outputs": [],
   "source": []
  },
  {
   "cell_type": "code",
   "execution_count": null,
   "id": "1f0a8f9c",
   "metadata": {},
   "outputs": [],
   "source": []
  }
 ],
 "metadata": {
  "kernelspec": {
   "display_name": "Python 3 (ipykernel)",
   "language": "python",
   "name": "python3"
  },
  "language_info": {
   "codemirror_mode": {
    "name": "ipython",
    "version": 3
   },
   "file_extension": ".py",
   "mimetype": "text/x-python",
   "name": "python",
   "nbconvert_exporter": "python",
   "pygments_lexer": "ipython3",
   "version": "3.10.10"
  }
 },
 "nbformat": 4,
 "nbformat_minor": 5
}
